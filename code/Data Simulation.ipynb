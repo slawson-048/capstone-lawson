{
 "cells": [
  {
   "cell_type": "markdown",
   "metadata": {},
   "source": [
    "# Code: Data Simulation\n",
    "## Sasha Lawson"
   ]
  },
  {
   "cell_type": "markdown",
   "metadata": {},
   "source": [
    "### Section 1: Setup"
   ]
  },
  {
   "cell_type": "code",
   "execution_count": 1,
   "metadata": {},
   "outputs": [],
   "source": [
    "#Import statements needed.\n",
    "import pandas as pd\n",
    "import numpy as np\n",
    "import random"
   ]
  },
  {
   "cell_type": "code",
   "execution_count": 2,
   "metadata": {},
   "outputs": [],
   "source": [
    "#Create a function to simulate data across various columns. \"rows\" being the number of rows.\n",
    "def simulate_data(rows = 5000):\n",
    "    \n",
    "    #Define the various fake companies.\n",
    "    companies = ['Company A', 'Company B', 'Company C', 'Company D', 'Company E', 'Company F', 'Company G', 'Company H']\n",
    "    \n",
    "    #Define the various roles that should be included.\n",
    "    roles = ['Software Engineer', 'Project Manager', 'HR Specialist', 'Accountant', 'Marketing Manager', \n",
    "             'Customer Support', 'Operations Manager', 'Product Designer', 'Business Analyst', \n",
    "             'Data Scientist', 'Data Analyst', 'Machine Learning Engineer', 'Sales Executive', 'Legal Advisor']\n",
    "    \n",
    "    #Define the various industries that should be included.\n",
    "    industries = ['Tech', 'Healthcare', 'Finance', 'Education', 'Retail', 'Manufacturing', 'Telecommunications', 'Energy']\n",
    "    \n",
    "    #Define the various locations that should be included.\n",
    "    locations = ['New York', 'San Francisco', 'Austin', 'Remote', 'Seattle', 'Chicago', 'Boston', 'London']\n",
    "    \n",
    "    #Define the various location sizes that should be included.\n",
    "    company_sizes = ['1-10', '11-50', '51-250', '251-500', '501+']\n",
    "    \n",
    "    \n",
    "    #Create a function to create the simulated satisfcation scores.\n",
    "    def satisfaction_scores():\n",
    "        \n",
    "        #Return the various categoies with a randomly assigned score.\n",
    "        return {\n",
    "            'Overall': random.randint(50, 100),\n",
    "            'Work_Life_Balance': random.randint(40, 100),\n",
    "            'Career_Growth': random.randint(30, 90),\n",
    "            'Compensation': random.randint(50, 100),\n",
    "            'Leadership': random.randint(40, 90),\n",
    "            'Colleagues': random.randint(60, 100)\n",
    "        }\n",
    "    \n",
    "    \n",
    "    #Create the dataset.\n",
    "    data = []\n",
    "    \n",
    "    \n",
    "    #Loop through the number of defined \"rows\".\n",
    "    for index in range(1, rows + 1): \n",
    "    \n",
    "        #Get the randomized satisfaction.\n",
    "        satisfaction = satisfaction_scores()\n",
    "        \n",
    "        #Get the randomly assigned data for the current \"row\".\n",
    "        row = {\n",
    "            'Index': index,\n",
    "            \n",
    "            'Company': random.choice(companies),\n",
    "            'Role': random.choice(roles),\n",
    "            'Industry': random.choice(industries),\n",
    "            'Location': random.choice(locations),\n",
    "            'Company_Size': random.choice(company_sizes),\n",
    "            \n",
    "            'Overall': satisfaction['Overall'],\n",
    "            'Work_Life_Balance': satisfaction['Work_Life_Balance'],\n",
    "            'Career_Growth': satisfaction['Career_Growth'],\n",
    "            'Compensation': satisfaction['Compensation'],\n",
    "            'Leadership': satisfaction['Leadership'],\n",
    "            'Colleagues': satisfaction['Colleagues']\n",
    "        }\n",
    "        \n",
    "        #Add the current \"row\".\n",
    "        data.append(row)\n",
    "    \n",
    "    \n",
    "    return pd.DataFrame(data)"
   ]
  },
  {
   "cell_type": "code",
   "execution_count": 3,
   "metadata": {},
   "outputs": [],
   "source": [
    "#Create a function to define role descriptions.\n",
    "def role_descriptions():\n",
    "    \n",
    "    #Define role descriptions in a dictionary.\n",
    "    role_descriptions = {\n",
    "        'Software Engineer': 'Develops, tests, and maintains software applications.',\n",
    "        'Project Manager': 'Oversees projects, ensuring they are completed on time and within scope.',\n",
    "        'HR Specialist': 'Handles recruitment, employee relations, and HR administration.',\n",
    "        'Accountant': 'Manages financial records and ensures compliance with regulations.',\n",
    "        'Marketing Manager': 'Plans and executes marketing strategies to promote products or services.',\n",
    "        'Customer Support': 'Provides assistance to customers, resolves issues, and answers inquiries.',\n",
    "        'Operations Manager': 'Ensures smooth day-to-day operations and process optimization.',\n",
    "        'Product Designer': 'Creates user-centered designs for products, focusing on functionality and aesthetics.',\n",
    "        'Business Analyst': 'Analyzes business processes and provides data-driven insights for decision-making.',\n",
    "        'Data Scientist': 'Analyzes complex data to extract insights and build predictive models.',\n",
    "        'Data Analyst': 'Interprets data to help businesses make informed decisions.',\n",
    "        'Machine Learning Engineer': 'Builds machine learning models and systems that learn from data.',\n",
    "        'Sales Executive': 'Drives sales growth by building relationships and closing deals.',\n",
    "        'Legal Advisor': 'Provides legal advice to ensure compliance with laws and regulations.'\n",
    "    }\n",
    "    \n",
    "\n",
    "    #Return the converted dictionary as a dataframe.\n",
    "    return pd.DataFrame(list(role_descriptions.items()), columns=['Role_Title', 'Role_Description'])"
   ]
  },
  {
   "cell_type": "code",
   "execution_count": 4,
   "metadata": {},
   "outputs": [],
   "source": [
    "#Create a function to simluate benchmark data based on the passed in dataframe.\n",
    "def simulate_benchmark(df):\n",
    "    \n",
    "    #Calculate mean scores for each role based on categories.\n",
    "    benchmark = (\n",
    "        df[['Role'] + ['Overall', 'Work_Life_Balance', 'Career_Growth', 'Compensation', 'Leadership', 'Colleagues']]\n",
    "        .groupby(['Role'])\n",
    "        .mean()\n",
    "        .reset_index()\n",
    "    )\n",
    "    \n",
    "    #Rename the benchmark columns as \"[column]_Benchmark\".\n",
    "    benchmark.rename(\n",
    "        columns={col: f'{col}_Benchmark' for col in benchmark.columns},\n",
    "        inplace=True\n",
    "    )\n",
    "    \n",
    "    \n",
    "    return benchmark"
   ]
  },
  {
   "cell_type": "markdown",
   "metadata": {},
   "source": [
    "### Section 2: Implementation"
   ]
  },
  {
   "cell_type": "code",
   "execution_count": 5,
   "metadata": {},
   "outputs": [],
   "source": [
    "#Implement methods to create the datasets.\n",
    "role_data = role_descriptions() \n",
    "simulated_data = simulate_data()\n",
    "benchmark_data = simulate_benchmark(simulated_data)\n",
    "\n",
    "\n",
    "#Export simluated data.\n",
    "simulated_data.to_excel('Simulated_Data.xlsx', index = False, engine = 'openpyxl')\n",
    "\n",
    "#Export simluated data.\n",
    "role_data.to_excel('Role_Data.xlsx', index = False, engine = 'openpyxl')\n",
    "\n",
    "#Export benchmark data.\n",
    "benchmark_data.to_excel('Benchmark_Data.xlsx', index = False, engine = 'openpyxl')"
   ]
  }
 ],
 "metadata": {
  "kernelspec": {
   "display_name": "newPY310",
   "language": "python",
   "name": "newpy310"
  },
  "language_info": {
   "codemirror_mode": {
    "name": "ipython",
    "version": 3
   },
   "file_extension": ".py",
   "mimetype": "text/x-python",
   "name": "python",
   "nbconvert_exporter": "python",
   "pygments_lexer": "ipython3",
   "version": "3.10.11"
  }
 },
 "nbformat": 4,
 "nbformat_minor": 4
}
